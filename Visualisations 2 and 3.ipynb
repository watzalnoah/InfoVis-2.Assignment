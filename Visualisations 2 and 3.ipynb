{
 "cells": [
  {
   "cell_type": "code",
   "execution_count": null,
   "id": "ac98555b",
   "metadata": {},
   "outputs": [],
   "source": [
    "'''\n",
    "# Implementation of two interactive visualisations for the Home Sales Prices and Characteristics for Seattle and King County #\n",
    "\n",
    "###\n",
    "                                            ####  VISUALISATION WITH PLOTLY  #####\n",
    "\n",
    "                                                ### MULTI AXIS LINE PLOT ###\n",
    "\n",
    "                                    ### 2014-15 King County Real Estate Market Activity ###\n",
    "###\n",
    "###\n",
    "###\n",
    "                                            ####  VISUALISATION WITH BOKEH  #####\n",
    "\n",
    "                                                ### ANIMATED BUBBLE PLOT ###\n",
    "\n",
    "                                            ### Prices of Houses Built YEAR ###\n",
    "\n",
    "###\n",
    "\n",
    "#\n",
    "'''"
   ]
  },
  {
   "cell_type": "code",
   "execution_count": 120,
   "id": "7b70c64f",
   "metadata": {},
   "outputs": [
    {
     "name": "stdout",
     "output_type": "stream",
     "text": [
      "Requirement already satisfied: colorcet in /opt/conda/lib/python3.9/site-packages (3.0.0)\n",
      "Requirement already satisfied: pyct>=0.4.4 in /opt/conda/lib/python3.9/site-packages (from colorcet) (0.4.8)\n",
      "Requirement already satisfied: param>=1.7.0 in /opt/conda/lib/python3.9/site-packages (from colorcet) (1.12.0)\n",
      "Note: you may need to restart the kernel to use updated packages.\n"
     ]
    }
   ],
   "source": [
    "#General Imports\n",
    "import pandas as pd\n",
    "import numpy as np\n",
    "import os\n",
    "%pip install colorcet\n",
    "import colorcet as cc\n",
    "import matplotlib.pyplot as plt"
   ]
  },
  {
   "cell_type": "code",
   "execution_count": 121,
   "id": "13283d8d",
   "metadata": {},
   "outputs": [],
   "source": [
    "#Plotly Imports\n",
    "from plotly.offline import init_notebook_mode, iplot\n",
    "import plotly.graph_objs as go"
   ]
  },
  {
   "cell_type": "code",
   "execution_count": 122,
   "id": "fa80f937",
   "metadata": {},
   "outputs": [],
   "source": [
    "#Bokeh Imports\n",
    "from bokeh import plotting as bplt\n",
    "from bokeh.io import output_notebook, show, output_file, push_notebook\n",
    "from bokeh.models import NumeralTickFormatter, ColumnDataSource, HoverTool, CustomJS, Slider, Toggle\n",
    "from bokeh.models.callbacks import CustomJS\n",
    "from bokeh.layouts import row, column\n",
    "from bokeh.models.widgets import Slider"
   ]
  },
  {
   "cell_type": "code",
   "execution_count": 124,
   "id": "ec907bb5",
   "metadata": {},
   "outputs": [
    {
     "data": {
      "text/html": [
       "<div>\n",
       "<style scoped>\n",
       "    .dataframe tbody tr th:only-of-type {\n",
       "        vertical-align: middle;\n",
       "    }\n",
       "\n",
       "    .dataframe tbody tr th {\n",
       "        vertical-align: top;\n",
       "    }\n",
       "\n",
       "    .dataframe thead th {\n",
       "        text-align: right;\n",
       "    }\n",
       "</style>\n",
       "<table border=\"1\" class=\"dataframe\">\n",
       "  <thead>\n",
       "    <tr style=\"text-align: right;\">\n",
       "      <th></th>\n",
       "      <th>id</th>\n",
       "      <th>date</th>\n",
       "      <th>price</th>\n",
       "      <th>bedrooms</th>\n",
       "      <th>bathrooms</th>\n",
       "      <th>sqft_living</th>\n",
       "      <th>sqft_lot</th>\n",
       "      <th>floors</th>\n",
       "      <th>waterfront</th>\n",
       "      <th>view</th>\n",
       "      <th>...</th>\n",
       "      <th>grade</th>\n",
       "      <th>sqft_above</th>\n",
       "      <th>sqft_basement</th>\n",
       "      <th>yr_built</th>\n",
       "      <th>yr_renovated</th>\n",
       "      <th>zipcode</th>\n",
       "      <th>lat</th>\n",
       "      <th>long</th>\n",
       "      <th>sqft_living15</th>\n",
       "      <th>sqft_lot15</th>\n",
       "    </tr>\n",
       "  </thead>\n",
       "  <tbody>\n",
       "    <tr>\n",
       "      <th>0</th>\n",
       "      <td>7129300520</td>\n",
       "      <td>20141013T000000</td>\n",
       "      <td>221900.0</td>\n",
       "      <td>3</td>\n",
       "      <td>1.00</td>\n",
       "      <td>1180</td>\n",
       "      <td>5650</td>\n",
       "      <td>1.0</td>\n",
       "      <td>0</td>\n",
       "      <td>0</td>\n",
       "      <td>...</td>\n",
       "      <td>7</td>\n",
       "      <td>1180</td>\n",
       "      <td>0</td>\n",
       "      <td>1955</td>\n",
       "      <td>0</td>\n",
       "      <td>98178</td>\n",
       "      <td>47.5112</td>\n",
       "      <td>-122.257</td>\n",
       "      <td>1340</td>\n",
       "      <td>5650</td>\n",
       "    </tr>\n",
       "    <tr>\n",
       "      <th>1</th>\n",
       "      <td>6414100192</td>\n",
       "      <td>20141209T000000</td>\n",
       "      <td>538000.0</td>\n",
       "      <td>3</td>\n",
       "      <td>2.25</td>\n",
       "      <td>2570</td>\n",
       "      <td>7242</td>\n",
       "      <td>2.0</td>\n",
       "      <td>0</td>\n",
       "      <td>0</td>\n",
       "      <td>...</td>\n",
       "      <td>7</td>\n",
       "      <td>2170</td>\n",
       "      <td>400</td>\n",
       "      <td>1951</td>\n",
       "      <td>1991</td>\n",
       "      <td>98125</td>\n",
       "      <td>47.7210</td>\n",
       "      <td>-122.319</td>\n",
       "      <td>1690</td>\n",
       "      <td>7639</td>\n",
       "    </tr>\n",
       "    <tr>\n",
       "      <th>2</th>\n",
       "      <td>5631500400</td>\n",
       "      <td>20150225T000000</td>\n",
       "      <td>180000.0</td>\n",
       "      <td>2</td>\n",
       "      <td>1.00</td>\n",
       "      <td>770</td>\n",
       "      <td>10000</td>\n",
       "      <td>1.0</td>\n",
       "      <td>0</td>\n",
       "      <td>0</td>\n",
       "      <td>...</td>\n",
       "      <td>6</td>\n",
       "      <td>770</td>\n",
       "      <td>0</td>\n",
       "      <td>1933</td>\n",
       "      <td>0</td>\n",
       "      <td>98028</td>\n",
       "      <td>47.7379</td>\n",
       "      <td>-122.233</td>\n",
       "      <td>2720</td>\n",
       "      <td>8062</td>\n",
       "    </tr>\n",
       "    <tr>\n",
       "      <th>3</th>\n",
       "      <td>2487200875</td>\n",
       "      <td>20141209T000000</td>\n",
       "      <td>604000.0</td>\n",
       "      <td>4</td>\n",
       "      <td>3.00</td>\n",
       "      <td>1960</td>\n",
       "      <td>5000</td>\n",
       "      <td>1.0</td>\n",
       "      <td>0</td>\n",
       "      <td>0</td>\n",
       "      <td>...</td>\n",
       "      <td>7</td>\n",
       "      <td>1050</td>\n",
       "      <td>910</td>\n",
       "      <td>1965</td>\n",
       "      <td>0</td>\n",
       "      <td>98136</td>\n",
       "      <td>47.5208</td>\n",
       "      <td>-122.393</td>\n",
       "      <td>1360</td>\n",
       "      <td>5000</td>\n",
       "    </tr>\n",
       "    <tr>\n",
       "      <th>4</th>\n",
       "      <td>1954400510</td>\n",
       "      <td>20150218T000000</td>\n",
       "      <td>510000.0</td>\n",
       "      <td>3</td>\n",
       "      <td>2.00</td>\n",
       "      <td>1680</td>\n",
       "      <td>8080</td>\n",
       "      <td>1.0</td>\n",
       "      <td>0</td>\n",
       "      <td>0</td>\n",
       "      <td>...</td>\n",
       "      <td>8</td>\n",
       "      <td>1680</td>\n",
       "      <td>0</td>\n",
       "      <td>1987</td>\n",
       "      <td>0</td>\n",
       "      <td>98074</td>\n",
       "      <td>47.6168</td>\n",
       "      <td>-122.045</td>\n",
       "      <td>1800</td>\n",
       "      <td>7503</td>\n",
       "    </tr>\n",
       "  </tbody>\n",
       "</table>\n",
       "<p>5 rows × 21 columns</p>\n",
       "</div>"
      ],
      "text/plain": [
       "           id             date     price  bedrooms  bathrooms  sqft_living  \\\n",
       "0  7129300520  20141013T000000  221900.0         3       1.00         1180   \n",
       "1  6414100192  20141209T000000  538000.0         3       2.25         2570   \n",
       "2  5631500400  20150225T000000  180000.0         2       1.00          770   \n",
       "3  2487200875  20141209T000000  604000.0         4       3.00         1960   \n",
       "4  1954400510  20150218T000000  510000.0         3       2.00         1680   \n",
       "\n",
       "   sqft_lot  floors  waterfront  view  ...  grade  sqft_above  sqft_basement  \\\n",
       "0      5650     1.0           0     0  ...      7        1180              0   \n",
       "1      7242     2.0           0     0  ...      7        2170            400   \n",
       "2     10000     1.0           0     0  ...      6         770              0   \n",
       "3      5000     1.0           0     0  ...      7        1050            910   \n",
       "4      8080     1.0           0     0  ...      8        1680              0   \n",
       "\n",
       "   yr_built  yr_renovated  zipcode      lat     long  sqft_living15  \\\n",
       "0      1955             0    98178  47.5112 -122.257           1340   \n",
       "1      1951          1991    98125  47.7210 -122.319           1690   \n",
       "2      1933             0    98028  47.7379 -122.233           2720   \n",
       "3      1965             0    98136  47.5208 -122.393           1360   \n",
       "4      1987             0    98074  47.6168 -122.045           1800   \n",
       "\n",
       "   sqft_lot15  \n",
       "0        5650  \n",
       "1        7639  \n",
       "2        8062  \n",
       "3        5000  \n",
       "4        7503  \n",
       "\n",
       "[5 rows x 21 columns]"
      ]
     },
     "execution_count": 124,
     "metadata": {},
     "output_type": "execute_result"
    }
   ],
   "source": [
    "#Read the dataset\n",
    "df=pd.read_csv('kc_house_data.csv')\n",
    "df.head()"
   ]
  },
  {
   "cell_type": "code",
   "execution_count": 127,
   "id": "d9ad38e6",
   "metadata": {},
   "outputs": [
    {
     "name": "stdout",
     "output_type": "stream",
     "text": [
      "Houses Sold for 0-100k: 25\n",
      "Houses Sold for 100-200k: 761\n",
      "Houses Sold for 200-300k: 3651\n",
      "Houses Sold for 300-400k: 4257\n",
      "Houses Sold for 400-500k: 3714\n",
      "Houses Sold for 500-600k: 2839\n",
      "Houses Sold for 600-700k: 1954\n",
      "Houses Sold for 700-800k: 1410\n",
      "Houses Sold for 800-900k: 927\n",
      "Houses Sold for 900-1000k: 583\n",
      "Houses Sold for 1-2m: 1287\n",
      "Houses Sold for 2-3m: 155\n",
      "Houses Sold for 3-4m: 38\n",
      "Houses Sold for 4-5m: 5\n",
      "Houses Sold for 5-6m: 4\n",
      "Houses Sold for 6-7m: 1\n",
      "Houses Sold for 7-8m: 2\n"
     ]
    }
   ],
   "source": [
    "#Print Ranges of House Prices\n",
    "for i in range(10):\n",
    "    a = df['price'][df['price']<100000*i].shape[0]\n",
    "    b = df['price'][df['price']<100000*(i+1)].shape[0]\n",
    "    print(\"Houses Sold for %s-%sk: %s\" %(i*100,(i+1)*100,b-a))\n",
    "\n",
    "for i in range(1,8):\n",
    "    a = df['price'][df['price']<1000000*i].shape[0]\n",
    "    b = df['price'][df['price']<1000000*(i+1)].shape[0]\n",
    "    print(\"Houses Sold for %s-%sm: %s\" %(i,i+1,b-a))"
   ]
  },
  {
   "cell_type": "code",
   "execution_count": 128,
   "id": "c319a5ce",
   "metadata": {},
   "outputs": [],
   "source": [
    "#Get Price Names\n",
    "k = round(df['price']/1000,0).astype(int)\n",
    "df['price_names'] = '$' + k.astype(str) + 'k'\n",
    "for i in range(df['price_names'].shape[0]):\n",
    "    if len(df['price_names'][i])>5:\n",
    "        num = round(int(df['price_names'][i][1:(len(df['price_names'][i])-1)])/1000,1)\n",
    "        df.loc[i,'price_names'] = '$' + str(num) + 'm'"
   ]
  },
  {
   "cell_type": "code",
   "execution_count": 129,
   "id": "66f0a2fb",
   "metadata": {},
   "outputs": [],
   "source": [
    "#Get months\n",
    "months = ['May 14','Jun 14','Jul 14','Aug 14','Sep 14','Oct 14','Nov 14','Dec 14','Jan 15','Feb 15','Mar 15','Apr 15','May 15']\n",
    "months_in_date_form = ['201405','201406','201407','201408','201409','201410','201411','201412','201501','201502','201503','201504','201505']\n",
    "date = dict(zip(months_in_date_form,months))\n",
    "df['month'] = df['date']\n",
    "for i in range(df.date.shape[0]):\n",
    "    df.loc[i,'month'] = date[df.loc[i,'date'][:6]]"
   ]
  },
  {
   "cell_type": "code",
   "execution_count": 130,
   "id": "f867adbc",
   "metadata": {},
   "outputs": [],
   "source": [
    "#Get year built or renovated\n",
    "df['max_yr_built_or_renovated'] = df['yr_built']\n",
    "index = df[df['yr_renovated']>0].index.values\n",
    "for i in index:\n",
    "    df.loc[i,'max_yr_built_or_renovated'] = max(df.loc[i,'yr_built'],df.loc[i,'yr_renovated'])"
   ]
  },
  {
   "cell_type": "code",
   "execution_count": 131,
   "id": "fec95a51",
   "metadata": {},
   "outputs": [],
   "source": [
    "####  VISUALISATION WITH PLOTLY  #####\n",
    "\n",
    "### MULTI AXIS LINE PLOT ###\n",
    "\n",
    "### 2014-15 King County Real Estate Market Activity ###"
   ]
  },
  {
   "cell_type": "code",
   "execution_count": 132,
   "id": "a2aa9495",
   "metadata": {},
   "outputs": [
    {
     "data": {
      "text/html": [
       "        <script type=\"text/javascript\">\n",
       "        window.PlotlyConfig = {MathJaxConfig: 'local'};\n",
       "        if (window.MathJax) {MathJax.Hub.Config({SVG: {font: \"STIX-Web\"}});}\n",
       "        if (typeof require !== 'undefined') {\n",
       "        require.undef(\"plotly\");\n",
       "        requirejs.config({\n",
       "            paths: {\n",
       "                'plotly': ['https://cdn.plot.ly/plotly-2.4.2.min']\n",
       "            }\n",
       "        });\n",
       "        require(['plotly'], function(Plotly) {\n",
       "            window._Plotly = Plotly;\n",
       "        });\n",
       "        }\n",
       "        </script>\n",
       "        "
      ]
     },
     "metadata": {},
     "output_type": "display_data"
    }
   ],
   "source": [
    "init_notebook_mode(connected=True)"
   ]
  },
  {
   "cell_type": "code",
   "execution_count": 133,
   "id": "72d26a88",
   "metadata": {},
   "outputs": [],
   "source": [
    "#Initialize the variables that will be used for this plot\n",
    "\n",
    "monthly_mean_prices = []\n",
    "for m in range(len(months)):\n",
    "    temp_df = df[df['month']==months[m]]\n",
    "    df['date'] = pd.to_datetime(df['date'])\n",
    "    df_date = df.groupby('date', as_index=False).count()\n",
    "    monthly_mean_prices.append(int(np.mean(temp_df['price'])))\n"
   ]
  },
  {
   "cell_type": "code",
   "execution_count": 134,
   "id": "b642b036",
   "metadata": {},
   "outputs": [
    {
     "data": {
      "application/vnd.plotly.v1+json": {
       "config": {
        "linkText": "Export to plot.ly",
        "plotlyServerURL": "https://plot.ly",
        "showLink": false
       },
       "data": [
        {
         "name": "Transactions",
         "type": "scatter",
         "x": [
          "May 14",
          "Jun 14",
          "Jul 14",
          "Aug 14",
          "Sep 14",
          "Oct 14",
          "Nov 14",
          "Dec 14",
          "Jan 15",
          "Feb 15",
          "Mar 15",
          "Apr 15",
          "May 15"
         ],
         "y": [
          67,
          4,
          5,
          84,
          83,
          93,
          81,
          81,
          5,
          2,
          80,
          86,
          81,
          82,
          73,
          1,
          7,
          83,
          116,
          94,
          91,
          84,
          11,
          5,
          8,
          104,
          111,
          75,
          65,
          6,
          7,
          78,
          104,
          100,
          93,
          67,
          4,
          10,
          95,
          98,
          90,
          90,
          79,
          8,
          7,
          97,
          113,
          99,
          101,
          107,
          8,
          12,
          142,
          120,
          131,
          131,
          92,
          13,
          7,
          77,
          115,
          90,
          74,
          2,
          6,
          3,
          83,
          127,
          121,
          90,
          82,
          9,
          3,
          116,
          102,
          111,
          86,
          100,
          5,
          8,
          97,
          105,
          107,
          94,
          102,
          8,
          1,
          94,
          112,
          75,
          83,
          81,
          5,
          1,
          91,
          110,
          85,
          62,
          78,
          2,
          3,
          107,
          100,
          97,
          92,
          61,
          4,
          4,
          84,
          93,
          114,
          87,
          103,
          7,
          2,
          109,
          117,
          102,
          78,
          57,
          1,
          3,
          6,
          80,
          85,
          79,
          86,
          5,
          2,
          74,
          94,
          86,
          88,
          60,
          5,
          4,
          77,
          93,
          74,
          80,
          76,
          5,
          5,
          91,
          103,
          99,
          80,
          91,
          5,
          3,
          83,
          55,
          86,
          74,
          67,
          4,
          3,
          69,
          91,
          75,
          79,
          86,
          2,
          3,
          63,
          89,
          86,
          90,
          74,
          6,
          4,
          84,
          90,
          80,
          75,
          58,
          5,
          4,
          96,
          117,
          93,
          85,
          40,
          5,
          1,
          73,
          73,
          77,
          78,
          74,
          5,
          3,
          81,
          50,
          82,
          100,
          69,
          2,
          3,
          84,
          87,
          82,
          86,
          82,
          7,
          4,
          79,
          71,
          47,
          2,
          3,
          1,
          96,
          97,
          80,
          66,
          60,
          6,
          2,
          74,
          78,
          75,
          77,
          68,
          4,
          4,
          79,
          69,
          64,
          67,
          42,
          8,
          2,
          67,
          63,
          31,
          38,
          2,
          64,
          43,
          45,
          45,
          59,
          42,
          54,
          49,
          36,
          1,
          42,
          43,
          51,
          45,
          53,
          1,
          8,
          46,
          56,
          48,
          48,
          4,
          3,
          48,
          57,
          60,
          43,
          35,
          1,
          2,
          48,
          46,
          53,
          51,
          51,
          3,
          56,
          54,
          61,
          48,
          69,
          3,
          1,
          6,
          69,
          87,
          75,
          72,
          3,
          13,
          71,
          98,
          95,
          60,
          50,
          5,
          6,
          43,
          63,
          100,
          78,
          58,
          4,
          1,
          68,
          74,
          88,
          75,
          71,
          6,
          3,
          83,
          95,
          95,
          71,
          64,
          15,
          4,
          92,
          101,
          123,
          105,
          109,
          8,
          8,
          91,
          73,
          88,
          103,
          75,
          4,
          6,
          84,
          102,
          112,
          92,
          77,
          13,
          13,
          90,
          121,
          77,
          77,
          83,
          5,
          6,
          77,
          119,
          121,
          110,
          103,
          16,
          13,
          126,
          121,
          114,
          83,
          77,
          6,
          10,
          102,
          94,
          88,
          76,
          54,
          3,
          2,
          40,
          49,
          31,
          11,
          1,
          1,
          1
         ]
        },
        {
         "name": "Mean Sale Prices",
         "type": "scatter",
         "x": [
          "May 14",
          "Jun 14",
          "Jul 14",
          "Aug 14",
          "Sep 14",
          "Oct 14",
          "Nov 14",
          "Dec 14",
          "Jan 15",
          "Feb 15",
          "Mar 15",
          "Apr 15",
          "May 15"
         ],
         "y": [
          548080,
          558002,
          544788,
          536445,
          529253,
          539026,
          521961,
          524461,
          525870,
          507851,
          543977,
          561837,
          558126
         ],
         "yaxis": "y2"
        }
       ],
       "layout": {
        "template": {
         "data": {
          "bar": [
           {
            "error_x": {
             "color": "#2a3f5f"
            },
            "error_y": {
             "color": "#2a3f5f"
            },
            "marker": {
             "line": {
              "color": "#E5ECF6",
              "width": 0.5
             },
             "pattern": {
              "fillmode": "overlay",
              "size": 10,
              "solidity": 0.2
             }
            },
            "type": "bar"
           }
          ],
          "barpolar": [
           {
            "marker": {
             "line": {
              "color": "#E5ECF6",
              "width": 0.5
             },
             "pattern": {
              "fillmode": "overlay",
              "size": 10,
              "solidity": 0.2
             }
            },
            "type": "barpolar"
           }
          ],
          "carpet": [
           {
            "aaxis": {
             "endlinecolor": "#2a3f5f",
             "gridcolor": "white",
             "linecolor": "white",
             "minorgridcolor": "white",
             "startlinecolor": "#2a3f5f"
            },
            "baxis": {
             "endlinecolor": "#2a3f5f",
             "gridcolor": "white",
             "linecolor": "white",
             "minorgridcolor": "white",
             "startlinecolor": "#2a3f5f"
            },
            "type": "carpet"
           }
          ],
          "choropleth": [
           {
            "colorbar": {
             "outlinewidth": 0,
             "ticks": ""
            },
            "type": "choropleth"
           }
          ],
          "contour": [
           {
            "colorbar": {
             "outlinewidth": 0,
             "ticks": ""
            },
            "colorscale": [
             [
              0,
              "#0d0887"
             ],
             [
              0.1111111111111111,
              "#46039f"
             ],
             [
              0.2222222222222222,
              "#7201a8"
             ],
             [
              0.3333333333333333,
              "#9c179e"
             ],
             [
              0.4444444444444444,
              "#bd3786"
             ],
             [
              0.5555555555555556,
              "#d8576b"
             ],
             [
              0.6666666666666666,
              "#ed7953"
             ],
             [
              0.7777777777777778,
              "#fb9f3a"
             ],
             [
              0.8888888888888888,
              "#fdca26"
             ],
             [
              1,
              "#f0f921"
             ]
            ],
            "type": "contour"
           }
          ],
          "contourcarpet": [
           {
            "colorbar": {
             "outlinewidth": 0,
             "ticks": ""
            },
            "type": "contourcarpet"
           }
          ],
          "heatmap": [
           {
            "colorbar": {
             "outlinewidth": 0,
             "ticks": ""
            },
            "colorscale": [
             [
              0,
              "#0d0887"
             ],
             [
              0.1111111111111111,
              "#46039f"
             ],
             [
              0.2222222222222222,
              "#7201a8"
             ],
             [
              0.3333333333333333,
              "#9c179e"
             ],
             [
              0.4444444444444444,
              "#bd3786"
             ],
             [
              0.5555555555555556,
              "#d8576b"
             ],
             [
              0.6666666666666666,
              "#ed7953"
             ],
             [
              0.7777777777777778,
              "#fb9f3a"
             ],
             [
              0.8888888888888888,
              "#fdca26"
             ],
             [
              1,
              "#f0f921"
             ]
            ],
            "type": "heatmap"
           }
          ],
          "heatmapgl": [
           {
            "colorbar": {
             "outlinewidth": 0,
             "ticks": ""
            },
            "colorscale": [
             [
              0,
              "#0d0887"
             ],
             [
              0.1111111111111111,
              "#46039f"
             ],
             [
              0.2222222222222222,
              "#7201a8"
             ],
             [
              0.3333333333333333,
              "#9c179e"
             ],
             [
              0.4444444444444444,
              "#bd3786"
             ],
             [
              0.5555555555555556,
              "#d8576b"
             ],
             [
              0.6666666666666666,
              "#ed7953"
             ],
             [
              0.7777777777777778,
              "#fb9f3a"
             ],
             [
              0.8888888888888888,
              "#fdca26"
             ],
             [
              1,
              "#f0f921"
             ]
            ],
            "type": "heatmapgl"
           }
          ],
          "histogram": [
           {
            "marker": {
             "pattern": {
              "fillmode": "overlay",
              "size": 10,
              "solidity": 0.2
             }
            },
            "type": "histogram"
           }
          ],
          "histogram2d": [
           {
            "colorbar": {
             "outlinewidth": 0,
             "ticks": ""
            },
            "colorscale": [
             [
              0,
              "#0d0887"
             ],
             [
              0.1111111111111111,
              "#46039f"
             ],
             [
              0.2222222222222222,
              "#7201a8"
             ],
             [
              0.3333333333333333,
              "#9c179e"
             ],
             [
              0.4444444444444444,
              "#bd3786"
             ],
             [
              0.5555555555555556,
              "#d8576b"
             ],
             [
              0.6666666666666666,
              "#ed7953"
             ],
             [
              0.7777777777777778,
              "#fb9f3a"
             ],
             [
              0.8888888888888888,
              "#fdca26"
             ],
             [
              1,
              "#f0f921"
             ]
            ],
            "type": "histogram2d"
           }
          ],
          "histogram2dcontour": [
           {
            "colorbar": {
             "outlinewidth": 0,
             "ticks": ""
            },
            "colorscale": [
             [
              0,
              "#0d0887"
             ],
             [
              0.1111111111111111,
              "#46039f"
             ],
             [
              0.2222222222222222,
              "#7201a8"
             ],
             [
              0.3333333333333333,
              "#9c179e"
             ],
             [
              0.4444444444444444,
              "#bd3786"
             ],
             [
              0.5555555555555556,
              "#d8576b"
             ],
             [
              0.6666666666666666,
              "#ed7953"
             ],
             [
              0.7777777777777778,
              "#fb9f3a"
             ],
             [
              0.8888888888888888,
              "#fdca26"
             ],
             [
              1,
              "#f0f921"
             ]
            ],
            "type": "histogram2dcontour"
           }
          ],
          "mesh3d": [
           {
            "colorbar": {
             "outlinewidth": 0,
             "ticks": ""
            },
            "type": "mesh3d"
           }
          ],
          "parcoords": [
           {
            "line": {
             "colorbar": {
              "outlinewidth": 0,
              "ticks": ""
             }
            },
            "type": "parcoords"
           }
          ],
          "pie": [
           {
            "automargin": true,
            "type": "pie"
           }
          ],
          "scatter": [
           {
            "marker": {
             "colorbar": {
              "outlinewidth": 0,
              "ticks": ""
             }
            },
            "type": "scatter"
           }
          ],
          "scatter3d": [
           {
            "line": {
             "colorbar": {
              "outlinewidth": 0,
              "ticks": ""
             }
            },
            "marker": {
             "colorbar": {
              "outlinewidth": 0,
              "ticks": ""
             }
            },
            "type": "scatter3d"
           }
          ],
          "scattercarpet": [
           {
            "marker": {
             "colorbar": {
              "outlinewidth": 0,
              "ticks": ""
             }
            },
            "type": "scattercarpet"
           }
          ],
          "scattergeo": [
           {
            "marker": {
             "colorbar": {
              "outlinewidth": 0,
              "ticks": ""
             }
            },
            "type": "scattergeo"
           }
          ],
          "scattergl": [
           {
            "marker": {
             "colorbar": {
              "outlinewidth": 0,
              "ticks": ""
             }
            },
            "type": "scattergl"
           }
          ],
          "scattermapbox": [
           {
            "marker": {
             "colorbar": {
              "outlinewidth": 0,
              "ticks": ""
             }
            },
            "type": "scattermapbox"
           }
          ],
          "scatterpolar": [
           {
            "marker": {
             "colorbar": {
              "outlinewidth": 0,
              "ticks": ""
             }
            },
            "type": "scatterpolar"
           }
          ],
          "scatterpolargl": [
           {
            "marker": {
             "colorbar": {
              "outlinewidth": 0,
              "ticks": ""
             }
            },
            "type": "scatterpolargl"
           }
          ],
          "scatterternary": [
           {
            "marker": {
             "colorbar": {
              "outlinewidth": 0,
              "ticks": ""
             }
            },
            "type": "scatterternary"
           }
          ],
          "surface": [
           {
            "colorbar": {
             "outlinewidth": 0,
             "ticks": ""
            },
            "colorscale": [
             [
              0,
              "#0d0887"
             ],
             [
              0.1111111111111111,
              "#46039f"
             ],
             [
              0.2222222222222222,
              "#7201a8"
             ],
             [
              0.3333333333333333,
              "#9c179e"
             ],
             [
              0.4444444444444444,
              "#bd3786"
             ],
             [
              0.5555555555555556,
              "#d8576b"
             ],
             [
              0.6666666666666666,
              "#ed7953"
             ],
             [
              0.7777777777777778,
              "#fb9f3a"
             ],
             [
              0.8888888888888888,
              "#fdca26"
             ],
             [
              1,
              "#f0f921"
             ]
            ],
            "type": "surface"
           }
          ],
          "table": [
           {
            "cells": {
             "fill": {
              "color": "#EBF0F8"
             },
             "line": {
              "color": "white"
             }
            },
            "header": {
             "fill": {
              "color": "#C8D4E3"
             },
             "line": {
              "color": "white"
             }
            },
            "type": "table"
           }
          ]
         },
         "layout": {
          "annotationdefaults": {
           "arrowcolor": "#2a3f5f",
           "arrowhead": 0,
           "arrowwidth": 1
          },
          "autotypenumbers": "strict",
          "coloraxis": {
           "colorbar": {
            "outlinewidth": 0,
            "ticks": ""
           }
          },
          "colorscale": {
           "diverging": [
            [
             0,
             "#8e0152"
            ],
            [
             0.1,
             "#c51b7d"
            ],
            [
             0.2,
             "#de77ae"
            ],
            [
             0.3,
             "#f1b6da"
            ],
            [
             0.4,
             "#fde0ef"
            ],
            [
             0.5,
             "#f7f7f7"
            ],
            [
             0.6,
             "#e6f5d0"
            ],
            [
             0.7,
             "#b8e186"
            ],
            [
             0.8,
             "#7fbc41"
            ],
            [
             0.9,
             "#4d9221"
            ],
            [
             1,
             "#276419"
            ]
           ],
           "sequential": [
            [
             0,
             "#0d0887"
            ],
            [
             0.1111111111111111,
             "#46039f"
            ],
            [
             0.2222222222222222,
             "#7201a8"
            ],
            [
             0.3333333333333333,
             "#9c179e"
            ],
            [
             0.4444444444444444,
             "#bd3786"
            ],
            [
             0.5555555555555556,
             "#d8576b"
            ],
            [
             0.6666666666666666,
             "#ed7953"
            ],
            [
             0.7777777777777778,
             "#fb9f3a"
            ],
            [
             0.8888888888888888,
             "#fdca26"
            ],
            [
             1,
             "#f0f921"
            ]
           ],
           "sequentialminus": [
            [
             0,
             "#0d0887"
            ],
            [
             0.1111111111111111,
             "#46039f"
            ],
            [
             0.2222222222222222,
             "#7201a8"
            ],
            [
             0.3333333333333333,
             "#9c179e"
            ],
            [
             0.4444444444444444,
             "#bd3786"
            ],
            [
             0.5555555555555556,
             "#d8576b"
            ],
            [
             0.6666666666666666,
             "#ed7953"
            ],
            [
             0.7777777777777778,
             "#fb9f3a"
            ],
            [
             0.8888888888888888,
             "#fdca26"
            ],
            [
             1,
             "#f0f921"
            ]
           ]
          },
          "colorway": [
           "#636efa",
           "#EF553B",
           "#00cc96",
           "#ab63fa",
           "#FFA15A",
           "#19d3f3",
           "#FF6692",
           "#B6E880",
           "#FF97FF",
           "#FECB52"
          ],
          "font": {
           "color": "#2a3f5f"
          },
          "geo": {
           "bgcolor": "white",
           "lakecolor": "white",
           "landcolor": "#E5ECF6",
           "showlakes": true,
           "showland": true,
           "subunitcolor": "white"
          },
          "hoverlabel": {
           "align": "left"
          },
          "hovermode": "closest",
          "mapbox": {
           "style": "light"
          },
          "paper_bgcolor": "white",
          "plot_bgcolor": "#E5ECF6",
          "polar": {
           "angularaxis": {
            "gridcolor": "white",
            "linecolor": "white",
            "ticks": ""
           },
           "bgcolor": "#E5ECF6",
           "radialaxis": {
            "gridcolor": "white",
            "linecolor": "white",
            "ticks": ""
           }
          },
          "scene": {
           "xaxis": {
            "backgroundcolor": "#E5ECF6",
            "gridcolor": "white",
            "gridwidth": 2,
            "linecolor": "white",
            "showbackground": true,
            "ticks": "",
            "zerolinecolor": "white"
           },
           "yaxis": {
            "backgroundcolor": "#E5ECF6",
            "gridcolor": "white",
            "gridwidth": 2,
            "linecolor": "white",
            "showbackground": true,
            "ticks": "",
            "zerolinecolor": "white"
           },
           "zaxis": {
            "backgroundcolor": "#E5ECF6",
            "gridcolor": "white",
            "gridwidth": 2,
            "linecolor": "white",
            "showbackground": true,
            "ticks": "",
            "zerolinecolor": "white"
           }
          },
          "shapedefaults": {
           "line": {
            "color": "#2a3f5f"
           }
          },
          "ternary": {
           "aaxis": {
            "gridcolor": "white",
            "linecolor": "white",
            "ticks": ""
           },
           "baxis": {
            "gridcolor": "white",
            "linecolor": "white",
            "ticks": ""
           },
           "bgcolor": "#E5ECF6",
           "caxis": {
            "gridcolor": "white",
            "linecolor": "white",
            "ticks": ""
           }
          },
          "title": {
           "x": 0.05
          },
          "xaxis": {
           "automargin": true,
           "gridcolor": "white",
           "linecolor": "white",
           "ticks": "",
           "title": {
            "standoff": 15
           },
           "zerolinecolor": "white",
           "zerolinewidth": 2
          },
          "yaxis": {
           "automargin": true,
           "gridcolor": "white",
           "linecolor": "white",
           "ticks": "",
           "title": {
            "standoff": 15
           },
           "zerolinecolor": "white",
           "zerolinewidth": 2
          }
         }
        },
        "title": {
         "text": "2014-15 King County Real Estate Market Activity"
        },
        "yaxis": {
         "title": {
          "text": "Transactions"
         }
        },
        "yaxis2": {
         "overlaying": "y",
         "side": "right",
         "tickfont": {
          "color": "rgb(148, 103, 189)"
         },
         "title": {
          "font": {
           "color": "rgb(148, 103, 189)"
          },
          "text": "Monthly Mean Sale Prices"
         }
        }
       }
      },
      "text/html": [
       "<div>                            <div id=\"f52d2979-3e63-4ecd-b11a-5c51295114d9\" class=\"plotly-graph-div\" style=\"height:525px; width:100%;\"></div>            <script type=\"text/javascript\">                require([\"plotly\"], function(Plotly) {                    window.PLOTLYENV=window.PLOTLYENV || {};                                    if (document.getElementById(\"f52d2979-3e63-4ecd-b11a-5c51295114d9\")) {                    Plotly.newPlot(                        \"f52d2979-3e63-4ecd-b11a-5c51295114d9\",                        [{\"name\":\"Transactions\",\"type\":\"scatter\",\"x\":[\"May 14\",\"Jun 14\",\"Jul 14\",\"Aug 14\",\"Sep 14\",\"Oct 14\",\"Nov 14\",\"Dec 14\",\"Jan 15\",\"Feb 15\",\"Mar 15\",\"Apr 15\",\"May 15\"],\"y\":[67,4,5,84,83,93,81,81,5,2,80,86,81,82,73,1,7,83,116,94,91,84,11,5,8,104,111,75,65,6,7,78,104,100,93,67,4,10,95,98,90,90,79,8,7,97,113,99,101,107,8,12,142,120,131,131,92,13,7,77,115,90,74,2,6,3,83,127,121,90,82,9,3,116,102,111,86,100,5,8,97,105,107,94,102,8,1,94,112,75,83,81,5,1,91,110,85,62,78,2,3,107,100,97,92,61,4,4,84,93,114,87,103,7,2,109,117,102,78,57,1,3,6,80,85,79,86,5,2,74,94,86,88,60,5,4,77,93,74,80,76,5,5,91,103,99,80,91,5,3,83,55,86,74,67,4,3,69,91,75,79,86,2,3,63,89,86,90,74,6,4,84,90,80,75,58,5,4,96,117,93,85,40,5,1,73,73,77,78,74,5,3,81,50,82,100,69,2,3,84,87,82,86,82,7,4,79,71,47,2,3,1,96,97,80,66,60,6,2,74,78,75,77,68,4,4,79,69,64,67,42,8,2,67,63,31,38,2,64,43,45,45,59,42,54,49,36,1,42,43,51,45,53,1,8,46,56,48,48,4,3,48,57,60,43,35,1,2,48,46,53,51,51,3,56,54,61,48,69,3,1,6,69,87,75,72,3,13,71,98,95,60,50,5,6,43,63,100,78,58,4,1,68,74,88,75,71,6,3,83,95,95,71,64,15,4,92,101,123,105,109,8,8,91,73,88,103,75,4,6,84,102,112,92,77,13,13,90,121,77,77,83,5,6,77,119,121,110,103,16,13,126,121,114,83,77,6,10,102,94,88,76,54,3,2,40,49,31,11,1,1,1]},{\"name\":\"Mean Sale Prices\",\"type\":\"scatter\",\"x\":[\"May 14\",\"Jun 14\",\"Jul 14\",\"Aug 14\",\"Sep 14\",\"Oct 14\",\"Nov 14\",\"Dec 14\",\"Jan 15\",\"Feb 15\",\"Mar 15\",\"Apr 15\",\"May 15\"],\"y\":[548080,558002,544788,536445,529253,539026,521961,524461,525870,507851,543977,561837,558126],\"yaxis\":\"y2\"}],                        {\"template\":{\"data\":{\"bar\":[{\"error_x\":{\"color\":\"#2a3f5f\"},\"error_y\":{\"color\":\"#2a3f5f\"},\"marker\":{\"line\":{\"color\":\"#E5ECF6\",\"width\":0.5},\"pattern\":{\"fillmode\":\"overlay\",\"size\":10,\"solidity\":0.2}},\"type\":\"bar\"}],\"barpolar\":[{\"marker\":{\"line\":{\"color\":\"#E5ECF6\",\"width\":0.5},\"pattern\":{\"fillmode\":\"overlay\",\"size\":10,\"solidity\":0.2}},\"type\":\"barpolar\"}],\"carpet\":[{\"aaxis\":{\"endlinecolor\":\"#2a3f5f\",\"gridcolor\":\"white\",\"linecolor\":\"white\",\"minorgridcolor\":\"white\",\"startlinecolor\":\"#2a3f5f\"},\"baxis\":{\"endlinecolor\":\"#2a3f5f\",\"gridcolor\":\"white\",\"linecolor\":\"white\",\"minorgridcolor\":\"white\",\"startlinecolor\":\"#2a3f5f\"},\"type\":\"carpet\"}],\"choropleth\":[{\"colorbar\":{\"outlinewidth\":0,\"ticks\":\"\"},\"type\":\"choropleth\"}],\"contour\":[{\"colorbar\":{\"outlinewidth\":0,\"ticks\":\"\"},\"colorscale\":[[0.0,\"#0d0887\"],[0.1111111111111111,\"#46039f\"],[0.2222222222222222,\"#7201a8\"],[0.3333333333333333,\"#9c179e\"],[0.4444444444444444,\"#bd3786\"],[0.5555555555555556,\"#d8576b\"],[0.6666666666666666,\"#ed7953\"],[0.7777777777777778,\"#fb9f3a\"],[0.8888888888888888,\"#fdca26\"],[1.0,\"#f0f921\"]],\"type\":\"contour\"}],\"contourcarpet\":[{\"colorbar\":{\"outlinewidth\":0,\"ticks\":\"\"},\"type\":\"contourcarpet\"}],\"heatmap\":[{\"colorbar\":{\"outlinewidth\":0,\"ticks\":\"\"},\"colorscale\":[[0.0,\"#0d0887\"],[0.1111111111111111,\"#46039f\"],[0.2222222222222222,\"#7201a8\"],[0.3333333333333333,\"#9c179e\"],[0.4444444444444444,\"#bd3786\"],[0.5555555555555556,\"#d8576b\"],[0.6666666666666666,\"#ed7953\"],[0.7777777777777778,\"#fb9f3a\"],[0.8888888888888888,\"#fdca26\"],[1.0,\"#f0f921\"]],\"type\":\"heatmap\"}],\"heatmapgl\":[{\"colorbar\":{\"outlinewidth\":0,\"ticks\":\"\"},\"colorscale\":[[0.0,\"#0d0887\"],[0.1111111111111111,\"#46039f\"],[0.2222222222222222,\"#7201a8\"],[0.3333333333333333,\"#9c179e\"],[0.4444444444444444,\"#bd3786\"],[0.5555555555555556,\"#d8576b\"],[0.6666666666666666,\"#ed7953\"],[0.7777777777777778,\"#fb9f3a\"],[0.8888888888888888,\"#fdca26\"],[1.0,\"#f0f921\"]],\"type\":\"heatmapgl\"}],\"histogram\":[{\"marker\":{\"pattern\":{\"fillmode\":\"overlay\",\"size\":10,\"solidity\":0.2}},\"type\":\"histogram\"}],\"histogram2d\":[{\"colorbar\":{\"outlinewidth\":0,\"ticks\":\"\"},\"colorscale\":[[0.0,\"#0d0887\"],[0.1111111111111111,\"#46039f\"],[0.2222222222222222,\"#7201a8\"],[0.3333333333333333,\"#9c179e\"],[0.4444444444444444,\"#bd3786\"],[0.5555555555555556,\"#d8576b\"],[0.6666666666666666,\"#ed7953\"],[0.7777777777777778,\"#fb9f3a\"],[0.8888888888888888,\"#fdca26\"],[1.0,\"#f0f921\"]],\"type\":\"histogram2d\"}],\"histogram2dcontour\":[{\"colorbar\":{\"outlinewidth\":0,\"ticks\":\"\"},\"colorscale\":[[0.0,\"#0d0887\"],[0.1111111111111111,\"#46039f\"],[0.2222222222222222,\"#7201a8\"],[0.3333333333333333,\"#9c179e\"],[0.4444444444444444,\"#bd3786\"],[0.5555555555555556,\"#d8576b\"],[0.6666666666666666,\"#ed7953\"],[0.7777777777777778,\"#fb9f3a\"],[0.8888888888888888,\"#fdca26\"],[1.0,\"#f0f921\"]],\"type\":\"histogram2dcontour\"}],\"mesh3d\":[{\"colorbar\":{\"outlinewidth\":0,\"ticks\":\"\"},\"type\":\"mesh3d\"}],\"parcoords\":[{\"line\":{\"colorbar\":{\"outlinewidth\":0,\"ticks\":\"\"}},\"type\":\"parcoords\"}],\"pie\":[{\"automargin\":true,\"type\":\"pie\"}],\"scatter\":[{\"marker\":{\"colorbar\":{\"outlinewidth\":0,\"ticks\":\"\"}},\"type\":\"scatter\"}],\"scatter3d\":[{\"line\":{\"colorbar\":{\"outlinewidth\":0,\"ticks\":\"\"}},\"marker\":{\"colorbar\":{\"outlinewidth\":0,\"ticks\":\"\"}},\"type\":\"scatter3d\"}],\"scattercarpet\":[{\"marker\":{\"colorbar\":{\"outlinewidth\":0,\"ticks\":\"\"}},\"type\":\"scattercarpet\"}],\"scattergeo\":[{\"marker\":{\"colorbar\":{\"outlinewidth\":0,\"ticks\":\"\"}},\"type\":\"scattergeo\"}],\"scattergl\":[{\"marker\":{\"colorbar\":{\"outlinewidth\":0,\"ticks\":\"\"}},\"type\":\"scattergl\"}],\"scattermapbox\":[{\"marker\":{\"colorbar\":{\"outlinewidth\":0,\"ticks\":\"\"}},\"type\":\"scattermapbox\"}],\"scatterpolar\":[{\"marker\":{\"colorbar\":{\"outlinewidth\":0,\"ticks\":\"\"}},\"type\":\"scatterpolar\"}],\"scatterpolargl\":[{\"marker\":{\"colorbar\":{\"outlinewidth\":0,\"ticks\":\"\"}},\"type\":\"scatterpolargl\"}],\"scatterternary\":[{\"marker\":{\"colorbar\":{\"outlinewidth\":0,\"ticks\":\"\"}},\"type\":\"scatterternary\"}],\"surface\":[{\"colorbar\":{\"outlinewidth\":0,\"ticks\":\"\"},\"colorscale\":[[0.0,\"#0d0887\"],[0.1111111111111111,\"#46039f\"],[0.2222222222222222,\"#7201a8\"],[0.3333333333333333,\"#9c179e\"],[0.4444444444444444,\"#bd3786\"],[0.5555555555555556,\"#d8576b\"],[0.6666666666666666,\"#ed7953\"],[0.7777777777777778,\"#fb9f3a\"],[0.8888888888888888,\"#fdca26\"],[1.0,\"#f0f921\"]],\"type\":\"surface\"}],\"table\":[{\"cells\":{\"fill\":{\"color\":\"#EBF0F8\"},\"line\":{\"color\":\"white\"}},\"header\":{\"fill\":{\"color\":\"#C8D4E3\"},\"line\":{\"color\":\"white\"}},\"type\":\"table\"}]},\"layout\":{\"annotationdefaults\":{\"arrowcolor\":\"#2a3f5f\",\"arrowhead\":0,\"arrowwidth\":1},\"autotypenumbers\":\"strict\",\"coloraxis\":{\"colorbar\":{\"outlinewidth\":0,\"ticks\":\"\"}},\"colorscale\":{\"diverging\":[[0,\"#8e0152\"],[0.1,\"#c51b7d\"],[0.2,\"#de77ae\"],[0.3,\"#f1b6da\"],[0.4,\"#fde0ef\"],[0.5,\"#f7f7f7\"],[0.6,\"#e6f5d0\"],[0.7,\"#b8e186\"],[0.8,\"#7fbc41\"],[0.9,\"#4d9221\"],[1,\"#276419\"]],\"sequential\":[[0.0,\"#0d0887\"],[0.1111111111111111,\"#46039f\"],[0.2222222222222222,\"#7201a8\"],[0.3333333333333333,\"#9c179e\"],[0.4444444444444444,\"#bd3786\"],[0.5555555555555556,\"#d8576b\"],[0.6666666666666666,\"#ed7953\"],[0.7777777777777778,\"#fb9f3a\"],[0.8888888888888888,\"#fdca26\"],[1.0,\"#f0f921\"]],\"sequentialminus\":[[0.0,\"#0d0887\"],[0.1111111111111111,\"#46039f\"],[0.2222222222222222,\"#7201a8\"],[0.3333333333333333,\"#9c179e\"],[0.4444444444444444,\"#bd3786\"],[0.5555555555555556,\"#d8576b\"],[0.6666666666666666,\"#ed7953\"],[0.7777777777777778,\"#fb9f3a\"],[0.8888888888888888,\"#fdca26\"],[1.0,\"#f0f921\"]]},\"colorway\":[\"#636efa\",\"#EF553B\",\"#00cc96\",\"#ab63fa\",\"#FFA15A\",\"#19d3f3\",\"#FF6692\",\"#B6E880\",\"#FF97FF\",\"#FECB52\"],\"font\":{\"color\":\"#2a3f5f\"},\"geo\":{\"bgcolor\":\"white\",\"lakecolor\":\"white\",\"landcolor\":\"#E5ECF6\",\"showlakes\":true,\"showland\":true,\"subunitcolor\":\"white\"},\"hoverlabel\":{\"align\":\"left\"},\"hovermode\":\"closest\",\"mapbox\":{\"style\":\"light\"},\"paper_bgcolor\":\"white\",\"plot_bgcolor\":\"#E5ECF6\",\"polar\":{\"angularaxis\":{\"gridcolor\":\"white\",\"linecolor\":\"white\",\"ticks\":\"\"},\"bgcolor\":\"#E5ECF6\",\"radialaxis\":{\"gridcolor\":\"white\",\"linecolor\":\"white\",\"ticks\":\"\"}},\"scene\":{\"xaxis\":{\"backgroundcolor\":\"#E5ECF6\",\"gridcolor\":\"white\",\"gridwidth\":2,\"linecolor\":\"white\",\"showbackground\":true,\"ticks\":\"\",\"zerolinecolor\":\"white\"},\"yaxis\":{\"backgroundcolor\":\"#E5ECF6\",\"gridcolor\":\"white\",\"gridwidth\":2,\"linecolor\":\"white\",\"showbackground\":true,\"ticks\":\"\",\"zerolinecolor\":\"white\"},\"zaxis\":{\"backgroundcolor\":\"#E5ECF6\",\"gridcolor\":\"white\",\"gridwidth\":2,\"linecolor\":\"white\",\"showbackground\":true,\"ticks\":\"\",\"zerolinecolor\":\"white\"}},\"shapedefaults\":{\"line\":{\"color\":\"#2a3f5f\"}},\"ternary\":{\"aaxis\":{\"gridcolor\":\"white\",\"linecolor\":\"white\",\"ticks\":\"\"},\"baxis\":{\"gridcolor\":\"white\",\"linecolor\":\"white\",\"ticks\":\"\"},\"bgcolor\":\"#E5ECF6\",\"caxis\":{\"gridcolor\":\"white\",\"linecolor\":\"white\",\"ticks\":\"\"}},\"title\":{\"x\":0.05},\"xaxis\":{\"automargin\":true,\"gridcolor\":\"white\",\"linecolor\":\"white\",\"ticks\":\"\",\"title\":{\"standoff\":15},\"zerolinecolor\":\"white\",\"zerolinewidth\":2},\"yaxis\":{\"automargin\":true,\"gridcolor\":\"white\",\"linecolor\":\"white\",\"ticks\":\"\",\"title\":{\"standoff\":15},\"zerolinecolor\":\"white\",\"zerolinewidth\":2}}},\"title\":{\"text\":\"2014-15 King County Real Estate Market Activity\"},\"yaxis\":{\"title\":{\"text\":\"Transactions\"}},\"yaxis2\":{\"overlaying\":\"y\",\"side\":\"right\",\"tickfont\":{\"color\":\"rgb(148, 103, 189)\"},\"title\":{\"font\":{\"color\":\"rgb(148, 103, 189)\"},\"text\":\"Monthly Mean Sale Prices\"}}},                        {\"responsive\": true}                    ).then(function(){\n",
       "                            \n",
       "var gd = document.getElementById('f52d2979-3e63-4ecd-b11a-5c51295114d9');\n",
       "var x = new MutationObserver(function (mutations, observer) {{\n",
       "        var display = window.getComputedStyle(gd).display;\n",
       "        if (!display || display === 'none') {{\n",
       "            console.log([gd, 'removed!']);\n",
       "            Plotly.purge(gd);\n",
       "            observer.disconnect();\n",
       "        }}\n",
       "}});\n",
       "\n",
       "// Listen for the removal of the full notebook cells\n",
       "var notebookContainer = gd.closest('#notebook-container');\n",
       "if (notebookContainer) {{\n",
       "    x.observe(notebookContainer, {childList: true});\n",
       "}}\n",
       "\n",
       "// Listen for the clearing of the current output cell\n",
       "var outputEl = gd.closest('.output');\n",
       "if (outputEl) {{\n",
       "    x.observe(outputEl, {childList: true});\n",
       "}}\n",
       "\n",
       "                        })                };                });            </script>        </div>"
      ]
     },
     "metadata": {},
     "output_type": "display_data"
    }
   ],
   "source": [
    "# Create two traces of scatter plots indicating the two-dimensionality of the y-axis\n",
    "trace1 = go.Scatter(\n",
    "    x=months,\n",
    "    y=df_date['id'],\n",
    "    name='Transactions'\n",
    ")\n",
    "trace2 = go.Scatter(\n",
    "    x=months,\n",
    "    y=monthly_mean_prices,\n",
    "    name='Mean Sale Prices',\n",
    "    yaxis='y2'\n",
    ")\n",
    "\n",
    "#Create a data variable having the two traces\n",
    "data = [trace1, trace2]\n",
    "\n",
    "#Createing the layout of the plot, Title, axis labels, legend\n",
    "layout = go.Layout(\n",
    "    title='2014-15 King County Real Estate Market Activity',\n",
    "    yaxis=dict(\n",
    "        title='Transactions'\n",
    "    ),\n",
    "    yaxis2=dict(\n",
    "        title='Monthly Mean Sale Prices',\n",
    "        titlefont=dict(\n",
    "            color='rgb(148, 103, 189)'\n",
    "        ),\n",
    "        tickfont=dict(\n",
    "            color='rgb(148, 103, 189)'\n",
    "        ),\n",
    "        overlaying='y',\n",
    "        side='right'\n",
    "    )\n",
    ")\n",
    "\n",
    "#Plot and show the figure \n",
    "fig = go.Figure(data=data, layout=layout)\n",
    "iplot(fig, filename='multiple-axes-double')"
   ]
  },
  {
   "cell_type": "code",
   "execution_count": 135,
   "id": "67a06fb4",
   "metadata": {},
   "outputs": [],
   "source": [
    "####  VISUALISATION WITH BOKEH  #####\n",
    "\n",
    "### ANIMATED BUBBLE PLOT ###\n",
    "\n",
    "### Prices of Houses Built YEAR ###"
   ]
  },
  {
   "cell_type": "code",
   "execution_count": 136,
   "id": "5276f5f7",
   "metadata": {},
   "outputs": [
    {
     "data": {
      "text/html": [
       "\n",
       "    <div class=\"bk-root\">\n",
       "        <a href=\"https://bokeh.pydata.org\" target=\"_blank\" class=\"bk-logo bk-logo-small bk-logo-notebook\"></a>\n",
       "        <span id=\"7306\">Loading BokehJS ...</span>\n",
       "    </div>"
      ]
     },
     "metadata": {},
     "output_type": "display_data"
    },
    {
     "data": {
      "application/javascript": [
       "\n",
       "(function(root) {\n",
       "  function now() {\n",
       "    return new Date();\n",
       "  }\n",
       "\n",
       "  var force = true;\n",
       "\n",
       "  if (typeof root._bokeh_onload_callbacks === \"undefined\" || force === true) {\n",
       "    root._bokeh_onload_callbacks = [];\n",
       "    root._bokeh_is_loading = undefined;\n",
       "  }\n",
       "\n",
       "  var JS_MIME_TYPE = 'application/javascript';\n",
       "  var HTML_MIME_TYPE = 'text/html';\n",
       "  var EXEC_MIME_TYPE = 'application/vnd.bokehjs_exec.v0+json';\n",
       "  var CLASS_NAME = 'output_bokeh rendered_html';\n",
       "\n",
       "  /**\n",
       "   * Render data to the DOM node\n",
       "   */\n",
       "  function render(props, node) {\n",
       "    var script = document.createElement(\"script\");\n",
       "    node.appendChild(script);\n",
       "  }\n",
       "\n",
       "  /**\n",
       "   * Handle when an output is cleared or removed\n",
       "   */\n",
       "  function handleClearOutput(event, handle) {\n",
       "    var cell = handle.cell;\n",
       "\n",
       "    var id = cell.output_area._bokeh_element_id;\n",
       "    var server_id = cell.output_area._bokeh_server_id;\n",
       "    // Clean up Bokeh references\n",
       "    if (id != null && id in Bokeh.index) {\n",
       "      Bokeh.index[id].model.document.clear();\n",
       "      delete Bokeh.index[id];\n",
       "    }\n",
       "\n",
       "    if (server_id !== undefined) {\n",
       "      // Clean up Bokeh references\n",
       "      var cmd = \"from bokeh.io.state import curstate; print(curstate().uuid_to_server['\" + server_id + \"'].get_sessions()[0].document.roots[0]._id)\";\n",
       "      cell.notebook.kernel.execute(cmd, {\n",
       "        iopub: {\n",
       "          output: function(msg) {\n",
       "            var id = msg.content.text.trim();\n",
       "            if (id in Bokeh.index) {\n",
       "              Bokeh.index[id].model.document.clear();\n",
       "              delete Bokeh.index[id];\n",
       "            }\n",
       "          }\n",
       "        }\n",
       "      });\n",
       "      // Destroy server and session\n",
       "      var cmd = \"import bokeh.io.notebook as ion; ion.destroy_server('\" + server_id + \"')\";\n",
       "      cell.notebook.kernel.execute(cmd);\n",
       "    }\n",
       "  }\n",
       "\n",
       "  /**\n",
       "   * Handle when a new output is added\n",
       "   */\n",
       "  function handleAddOutput(event, handle) {\n",
       "    var output_area = handle.output_area;\n",
       "    var output = handle.output;\n",
       "\n",
       "    // limit handleAddOutput to display_data with EXEC_MIME_TYPE content only\n",
       "    if ((output.output_type != \"display_data\") || (!output.data.hasOwnProperty(EXEC_MIME_TYPE))) {\n",
       "      return\n",
       "    }\n",
       "\n",
       "    var toinsert = output_area.element.find(\".\" + CLASS_NAME.split(' ')[0]);\n",
       "\n",
       "    if (output.metadata[EXEC_MIME_TYPE][\"id\"] !== undefined) {\n",
       "      toinsert[toinsert.length - 1].firstChild.textContent = output.data[JS_MIME_TYPE];\n",
       "      // store reference to embed id on output_area\n",
       "      output_area._bokeh_element_id = output.metadata[EXEC_MIME_TYPE][\"id\"];\n",
       "    }\n",
       "    if (output.metadata[EXEC_MIME_TYPE][\"server_id\"] !== undefined) {\n",
       "      var bk_div = document.createElement(\"div\");\n",
       "      bk_div.innerHTML = output.data[HTML_MIME_TYPE];\n",
       "      var script_attrs = bk_div.children[0].attributes;\n",
       "      for (var i = 0; i < script_attrs.length; i++) {\n",
       "        toinsert[toinsert.length - 1].firstChild.setAttribute(script_attrs[i].name, script_attrs[i].value);\n",
       "      }\n",
       "      // store reference to server id on output_area\n",
       "      output_area._bokeh_server_id = output.metadata[EXEC_MIME_TYPE][\"server_id\"];\n",
       "    }\n",
       "  }\n",
       "\n",
       "  function register_renderer(events, OutputArea) {\n",
       "\n",
       "    function append_mime(data, metadata, element) {\n",
       "      // create a DOM node to render to\n",
       "      var toinsert = this.create_output_subarea(\n",
       "        metadata,\n",
       "        CLASS_NAME,\n",
       "        EXEC_MIME_TYPE\n",
       "      );\n",
       "      this.keyboard_manager.register_events(toinsert);\n",
       "      // Render to node\n",
       "      var props = {data: data, metadata: metadata[EXEC_MIME_TYPE]};\n",
       "      render(props, toinsert[toinsert.length - 1]);\n",
       "      element.append(toinsert);\n",
       "      return toinsert\n",
       "    }\n",
       "\n",
       "    /* Handle when an output is cleared or removed */\n",
       "    events.on('clear_output.CodeCell', handleClearOutput);\n",
       "    events.on('delete.Cell', handleClearOutput);\n",
       "\n",
       "    /* Handle when a new output is added */\n",
       "    events.on('output_added.OutputArea', handleAddOutput);\n",
       "\n",
       "    /**\n",
       "     * Register the mime type and append_mime function with output_area\n",
       "     */\n",
       "    OutputArea.prototype.register_mime_type(EXEC_MIME_TYPE, append_mime, {\n",
       "      /* Is output safe? */\n",
       "      safe: true,\n",
       "      /* Index of renderer in `output_area.display_order` */\n",
       "      index: 0\n",
       "    });\n",
       "  }\n",
       "\n",
       "  // register the mime type if in Jupyter Notebook environment and previously unregistered\n",
       "  if (root.Jupyter !== undefined) {\n",
       "    var events = require('base/js/events');\n",
       "    var OutputArea = require('notebook/js/outputarea').OutputArea;\n",
       "\n",
       "    if (OutputArea.prototype.mime_types().indexOf(EXEC_MIME_TYPE) == -1) {\n",
       "      register_renderer(events, OutputArea);\n",
       "    }\n",
       "  }\n",
       "\n",
       "  \n",
       "  if (typeof (root._bokeh_timeout) === \"undefined\" || force === true) {\n",
       "    root._bokeh_timeout = Date.now() + 5000;\n",
       "    root._bokeh_failed_load = false;\n",
       "  }\n",
       "\n",
       "  var NB_LOAD_WARNING = {'data': {'text/html':\n",
       "     \"<div style='background-color: #fdd'>\\n\"+\n",
       "     \"<p>\\n\"+\n",
       "     \"BokehJS does not appear to have successfully loaded. If loading BokehJS from CDN, this \\n\"+\n",
       "     \"may be due to a slow or bad network connection. Possible fixes:\\n\"+\n",
       "     \"</p>\\n\"+\n",
       "     \"<ul>\\n\"+\n",
       "     \"<li>re-rerun `output_notebook()` to attempt to load from CDN again, or</li>\\n\"+\n",
       "     \"<li>use INLINE resources instead, as so:</li>\\n\"+\n",
       "     \"</ul>\\n\"+\n",
       "     \"<code>\\n\"+\n",
       "     \"from bokeh.resources import INLINE\\n\"+\n",
       "     \"output_notebook(resources=INLINE)\\n\"+\n",
       "     \"</code>\\n\"+\n",
       "     \"</div>\"}};\n",
       "\n",
       "  function display_loaded() {\n",
       "    var el = document.getElementById(\"7306\");\n",
       "    if (el != null) {\n",
       "      el.textContent = \"BokehJS is loading...\";\n",
       "    }\n",
       "    if (root.Bokeh !== undefined) {\n",
       "      if (el != null) {\n",
       "        el.textContent = \"BokehJS \" + root.Bokeh.version + \" successfully loaded.\";\n",
       "      }\n",
       "    } else if (Date.now() < root._bokeh_timeout) {\n",
       "      setTimeout(display_loaded, 100)\n",
       "    }\n",
       "  }\n",
       "\n",
       "\n",
       "  function run_callbacks() {\n",
       "    try {\n",
       "      root._bokeh_onload_callbacks.forEach(function(callback) {\n",
       "        if (callback != null)\n",
       "          callback();\n",
       "      });\n",
       "    } finally {\n",
       "      delete root._bokeh_onload_callbacks\n",
       "    }\n",
       "    console.debug(\"Bokeh: all callbacks have finished\");\n",
       "  }\n",
       "\n",
       "  function load_libs(css_urls, js_urls, callback) {\n",
       "    if (css_urls == null) css_urls = [];\n",
       "    if (js_urls == null) js_urls = [];\n",
       "\n",
       "    root._bokeh_onload_callbacks.push(callback);\n",
       "    if (root._bokeh_is_loading > 0) {\n",
       "      console.debug(\"Bokeh: BokehJS is being loaded, scheduling callback at\", now());\n",
       "      return null;\n",
       "    }\n",
       "    if (js_urls == null || js_urls.length === 0) {\n",
       "      run_callbacks();\n",
       "      return null;\n",
       "    }\n",
       "    console.debug(\"Bokeh: BokehJS not loaded, scheduling load and callback at\", now());\n",
       "    root._bokeh_is_loading = css_urls.length + js_urls.length;\n",
       "\n",
       "    function on_load() {\n",
       "      root._bokeh_is_loading--;\n",
       "      if (root._bokeh_is_loading === 0) {\n",
       "        console.debug(\"Bokeh: all BokehJS libraries/stylesheets loaded\");\n",
       "        run_callbacks()\n",
       "      }\n",
       "    }\n",
       "\n",
       "    function on_error() {\n",
       "      console.error(\"failed to load \" + url);\n",
       "    }\n",
       "\n",
       "    for (var i = 0; i < css_urls.length; i++) {\n",
       "      var url = css_urls[i];\n",
       "      const element = document.createElement(\"link\");\n",
       "      element.onload = on_load;\n",
       "      element.onerror = on_error;\n",
       "      element.rel = \"stylesheet\";\n",
       "      element.type = \"text/css\";\n",
       "      element.href = url;\n",
       "      console.debug(\"Bokeh: injecting link tag for BokehJS stylesheet: \", url);\n",
       "      document.body.appendChild(element);\n",
       "    }\n",
       "\n",
       "    for (var i = 0; i < js_urls.length; i++) {\n",
       "      var url = js_urls[i];\n",
       "      var element = document.createElement('script');\n",
       "      element.onload = on_load;\n",
       "      element.onerror = on_error;\n",
       "      element.async = false;\n",
       "      element.src = url;\n",
       "      console.debug(\"Bokeh: injecting script tag for BokehJS library: \", url);\n",
       "      document.head.appendChild(element);\n",
       "    }\n",
       "  };var element = document.getElementById(\"7306\");\n",
       "  if (element == null) {\n",
       "    console.error(\"Bokeh: ERROR: autoload.js configured with elementid '7306' but no matching script tag was found. \")\n",
       "    return false;\n",
       "  }\n",
       "\n",
       "  function inject_raw_css(css) {\n",
       "    const element = document.createElement(\"style\");\n",
       "    element.appendChild(document.createTextNode(css));\n",
       "    document.body.appendChild(element);\n",
       "  }\n",
       "\n",
       "  var js_urls = [\"https://cdn.pydata.org/bokeh/release/bokeh-1.3.4.min.js\", \"https://cdn.pydata.org/bokeh/release/bokeh-widgets-1.3.4.min.js\", \"https://cdn.pydata.org/bokeh/release/bokeh-tables-1.3.4.min.js\", \"https://cdn.pydata.org/bokeh/release/bokeh-gl-1.3.4.min.js\"];\n",
       "  var css_urls = [];\n",
       "\n",
       "  var inline_js = [\n",
       "    function(Bokeh) {\n",
       "      Bokeh.set_log_level(\"info\");\n",
       "    },\n",
       "    \n",
       "    function(Bokeh) {\n",
       "      \n",
       "    },\n",
       "    function(Bokeh) {} // ensure no trailing comma for IE\n",
       "  ];\n",
       "\n",
       "  function run_inline_js() {\n",
       "    \n",
       "    if ((root.Bokeh !== undefined) || (force === true)) {\n",
       "      for (var i = 0; i < inline_js.length; i++) {\n",
       "        inline_js[i].call(root, root.Bokeh);\n",
       "      }if (force === true) {\n",
       "        display_loaded();\n",
       "      }} else if (Date.now() < root._bokeh_timeout) {\n",
       "      setTimeout(run_inline_js, 100);\n",
       "    } else if (!root._bokeh_failed_load) {\n",
       "      console.log(\"Bokeh: BokehJS failed to load within specified timeout.\");\n",
       "      root._bokeh_failed_load = true;\n",
       "    } else if (force !== true) {\n",
       "      var cell = $(document.getElementById(\"7306\")).parents('.cell').data().cell;\n",
       "      cell.output_area.append_execute_result(NB_LOAD_WARNING)\n",
       "    }\n",
       "\n",
       "  }\n",
       "\n",
       "  if (root._bokeh_is_loading === 0) {\n",
       "    console.debug(\"Bokeh: BokehJS loaded, going straight to plotting\");\n",
       "    run_inline_js();\n",
       "  } else {\n",
       "    load_libs(css_urls, js_urls, function() {\n",
       "      console.debug(\"Bokeh: BokehJS plotting callback run at\", now());\n",
       "      run_inline_js();\n",
       "    });\n",
       "  }\n",
       "}(window));"
      ],
      "application/vnd.bokehjs_load.v0+json": "\n(function(root) {\n  function now() {\n    return new Date();\n  }\n\n  var force = true;\n\n  if (typeof root._bokeh_onload_callbacks === \"undefined\" || force === true) {\n    root._bokeh_onload_callbacks = [];\n    root._bokeh_is_loading = undefined;\n  }\n\n  \n\n  \n  if (typeof (root._bokeh_timeout) === \"undefined\" || force === true) {\n    root._bokeh_timeout = Date.now() + 5000;\n    root._bokeh_failed_load = false;\n  }\n\n  var NB_LOAD_WARNING = {'data': {'text/html':\n     \"<div style='background-color: #fdd'>\\n\"+\n     \"<p>\\n\"+\n     \"BokehJS does not appear to have successfully loaded. If loading BokehJS from CDN, this \\n\"+\n     \"may be due to a slow or bad network connection. Possible fixes:\\n\"+\n     \"</p>\\n\"+\n     \"<ul>\\n\"+\n     \"<li>re-rerun `output_notebook()` to attempt to load from CDN again, or</li>\\n\"+\n     \"<li>use INLINE resources instead, as so:</li>\\n\"+\n     \"</ul>\\n\"+\n     \"<code>\\n\"+\n     \"from bokeh.resources import INLINE\\n\"+\n     \"output_notebook(resources=INLINE)\\n\"+\n     \"</code>\\n\"+\n     \"</div>\"}};\n\n  function display_loaded() {\n    var el = document.getElementById(\"7306\");\n    if (el != null) {\n      el.textContent = \"BokehJS is loading...\";\n    }\n    if (root.Bokeh !== undefined) {\n      if (el != null) {\n        el.textContent = \"BokehJS \" + root.Bokeh.version + \" successfully loaded.\";\n      }\n    } else if (Date.now() < root._bokeh_timeout) {\n      setTimeout(display_loaded, 100)\n    }\n  }\n\n\n  function run_callbacks() {\n    try {\n      root._bokeh_onload_callbacks.forEach(function(callback) {\n        if (callback != null)\n          callback();\n      });\n    } finally {\n      delete root._bokeh_onload_callbacks\n    }\n    console.debug(\"Bokeh: all callbacks have finished\");\n  }\n\n  function load_libs(css_urls, js_urls, callback) {\n    if (css_urls == null) css_urls = [];\n    if (js_urls == null) js_urls = [];\n\n    root._bokeh_onload_callbacks.push(callback);\n    if (root._bokeh_is_loading > 0) {\n      console.debug(\"Bokeh: BokehJS is being loaded, scheduling callback at\", now());\n      return null;\n    }\n    if (js_urls == null || js_urls.length === 0) {\n      run_callbacks();\n      return null;\n    }\n    console.debug(\"Bokeh: BokehJS not loaded, scheduling load and callback at\", now());\n    root._bokeh_is_loading = css_urls.length + js_urls.length;\n\n    function on_load() {\n      root._bokeh_is_loading--;\n      if (root._bokeh_is_loading === 0) {\n        console.debug(\"Bokeh: all BokehJS libraries/stylesheets loaded\");\n        run_callbacks()\n      }\n    }\n\n    function on_error() {\n      console.error(\"failed to load \" + url);\n    }\n\n    for (var i = 0; i < css_urls.length; i++) {\n      var url = css_urls[i];\n      const element = document.createElement(\"link\");\n      element.onload = on_load;\n      element.onerror = on_error;\n      element.rel = \"stylesheet\";\n      element.type = \"text/css\";\n      element.href = url;\n      console.debug(\"Bokeh: injecting link tag for BokehJS stylesheet: \", url);\n      document.body.appendChild(element);\n    }\n\n    for (var i = 0; i < js_urls.length; i++) {\n      var url = js_urls[i];\n      var element = document.createElement('script');\n      element.onload = on_load;\n      element.onerror = on_error;\n      element.async = false;\n      element.src = url;\n      console.debug(\"Bokeh: injecting script tag for BokehJS library: \", url);\n      document.head.appendChild(element);\n    }\n  };var element = document.getElementById(\"7306\");\n  if (element == null) {\n    console.error(\"Bokeh: ERROR: autoload.js configured with elementid '7306' but no matching script tag was found. \")\n    return false;\n  }\n\n  function inject_raw_css(css) {\n    const element = document.createElement(\"style\");\n    element.appendChild(document.createTextNode(css));\n    document.body.appendChild(element);\n  }\n\n  var js_urls = [\"https://cdn.pydata.org/bokeh/release/bokeh-1.3.4.min.js\", \"https://cdn.pydata.org/bokeh/release/bokeh-widgets-1.3.4.min.js\", \"https://cdn.pydata.org/bokeh/release/bokeh-tables-1.3.4.min.js\", \"https://cdn.pydata.org/bokeh/release/bokeh-gl-1.3.4.min.js\"];\n  var css_urls = [];\n\n  var inline_js = [\n    function(Bokeh) {\n      Bokeh.set_log_level(\"info\");\n    },\n    \n    function(Bokeh) {\n      \n    },\n    function(Bokeh) {} // ensure no trailing comma for IE\n  ];\n\n  function run_inline_js() {\n    \n    if ((root.Bokeh !== undefined) || (force === true)) {\n      for (var i = 0; i < inline_js.length; i++) {\n        inline_js[i].call(root, root.Bokeh);\n      }if (force === true) {\n        display_loaded();\n      }} else if (Date.now() < root._bokeh_timeout) {\n      setTimeout(run_inline_js, 100);\n    } else if (!root._bokeh_failed_load) {\n      console.log(\"Bokeh: BokehJS failed to load within specified timeout.\");\n      root._bokeh_failed_load = true;\n    } else if (force !== true) {\n      var cell = $(document.getElementById(\"7306\")).parents('.cell').data().cell;\n      cell.output_area.append_execute_result(NB_LOAD_WARNING)\n    }\n\n  }\n\n  if (root._bokeh_is_loading === 0) {\n    console.debug(\"Bokeh: BokehJS loaded, going straight to plotting\");\n    run_inline_js();\n  } else {\n    load_libs(css_urls, js_urls, function() {\n      console.debug(\"Bokeh: BokehJS plotting callback run at\", now());\n      run_inline_js();\n    });\n  }\n}(window));"
     },
     "metadata": {},
     "output_type": "display_data"
    }
   ],
   "source": [
    "output_notebook()\n"
   ]
  },
  {
   "cell_type": "code",
   "execution_count": 138,
   "id": "9da31507",
   "metadata": {},
   "outputs": [],
   "source": [
    "# Styling for a plot\n",
    "def style(p):\n",
    "    # Title \n",
    "    p.title.align = 'center'\n",
    "    p.title.text_font_size = '20pt'\n",
    "    p.title.text_font = 'serif'\n",
    "\n",
    "    # Axis titles\n",
    "    p.xaxis.axis_label_text_font_size = '14pt'\n",
    "    p.xaxis.axis_label_text_font_style = 'bold'\n",
    "    p.yaxis.axis_label_text_font_size = '14pt'\n",
    "    p.yaxis.axis_label_text_font_style = 'bold'\n",
    "\n",
    "    # Tick labels\n",
    "    p.xaxis.major_label_text_font_size = '12pt'\n",
    "    p.yaxis.major_label_text_font_size = '12pt'\n",
    "\n",
    "    return p"
   ]
  },
  {
   "cell_type": "code",
   "execution_count": 139,
   "id": "3820368b",
   "metadata": {},
   "outputs": [
    {
     "name": "stdout",
     "output_type": "stream",
     "text": [
      "Requirement already satisfied: bokeh==1.3.4 in /opt/conda/lib/python3.9/site-packages (1.3.4)\n",
      "Requirement already satisfied: numpy>=1.7.1 in /opt/conda/lib/python3.9/site-packages (from bokeh==1.3.4) (1.20.3)\n",
      "Requirement already satisfied: python-dateutil>=2.1 in /opt/conda/lib/python3.9/site-packages (from bokeh==1.3.4) (2.8.2)\n",
      "Requirement already satisfied: pillow>=4.0 in /opt/conda/lib/python3.9/site-packages (from bokeh==1.3.4) (8.3.2)\n",
      "Requirement already satisfied: packaging>=16.8 in /opt/conda/lib/python3.9/site-packages (from bokeh==1.3.4) (21.0)\n",
      "Requirement already satisfied: Jinja2>=2.7 in /opt/conda/lib/python3.9/site-packages (from bokeh==1.3.4) (3.0.1)\n",
      "Requirement already satisfied: tornado>=4.3 in /opt/conda/lib/python3.9/site-packages (from bokeh==1.3.4) (6.1)\n",
      "Requirement already satisfied: PyYAML>=3.10 in /opt/conda/lib/python3.9/site-packages (from bokeh==1.3.4) (5.4.1)\n",
      "Requirement already satisfied: six>=1.5.2 in /opt/conda/lib/python3.9/site-packages (from bokeh==1.3.4) (1.16.0)\n",
      "Requirement already satisfied: MarkupSafe>=2.0 in /opt/conda/lib/python3.9/site-packages (from Jinja2>=2.7->bokeh==1.3.4) (2.0.1)\n",
      "Requirement already satisfied: pyparsing>=2.0.2 in /opt/conda/lib/python3.9/site-packages (from packaging>=16.8->bokeh==1.3.4) (2.4.7)\n",
      "Note: you may need to restart the kernel to use updated packages.\n"
     ]
    }
   ],
   "source": [
    "%pip install 'bokeh==1.3.4'"
   ]
  },
  {
   "cell_type": "code",
   "execution_count": 140,
   "id": "4311e9a5",
   "metadata": {},
   "outputs": [],
   "source": [
    "# Create variables necessary for the color and the size of the bubbles\n",
    "bins = [100000*i for i in range(0,11)]+[8000000]\n",
    "df['binned2'] = pd.cut(df['price'], bins).astype(str).tolist()\n",
    "bins = ['(0, 100000]', '(100000, 200000]', '(200000, 300000]', '(300000, 400000]',\\\n",
    "        '(400000, 500000]', '(500000, 600000]', '(600000, 700000]',\\\n",
    "        '(700000, 800000]', '(800000, 900000]', '(900000, 1000000]', '(1000000, 8000000]',]\n",
    "palette = [cc.rainbow[(len(bins)-1-i)*15*int(17/(len(bins)))] for i in range(len(bins))]\n",
    "df['color'] = palette[0]\n",
    "col_conv = dict(zip(bins,palette))\n",
    "\n",
    "min_price = min(df['price'])\n",
    "max_price = max(df['price'])\n",
    "sizes = [5*i+5 for i in range(1,len(bins)+1)]\n",
    "df['size'] = sizes[0]\n",
    "size_conv = dict(zip(bins,sizes))\n",
    "\n",
    "for i in df.index.values:\n",
    "    df.loc[i,'color'] = col_conv[df.loc[i,'binned2']]\n",
    "    df.loc[i,'size'] = size_conv[df.loc[i,'binned2']]"
   ]
  },
  {
   "cell_type": "code",
   "execution_count": 141,
   "id": "eb30fca8",
   "metadata": {},
   "outputs": [],
   "source": [
    "#Group the variables that would be used in this graph such as price, grade, and year built\n",
    "scatter_df = df[['price','grade','max_yr_built_or_renovated','color', 'size', 'price_names']][(df['yr_renovated']>0)\\\n",
    "                                                                                               &(df['grade']<33)]"
   ]
  },
  {
   "cell_type": "code",
   "execution_count": 142,
   "id": "7fa6827a",
   "metadata": {},
   "outputs": [],
   "source": [
    "# Create the bubble plot and assign the x and y variables, titles, labels as well as variables range\n",
    "temp_df = scatter_df[scatter_df['max_yr_built_or_renovated']==2010]\n",
    "source = ColumnDataSource(temp_df)\n",
    "\n",
    "p = bplt.figure(plot_width=900, plot_height=350, title=\"Prices of Houses Built 2010\",\\\n",
    "           x_axis_label = 'Grade', y_axis_label = \"Price\",\\\n",
    "           y_range = (0,max(scatter_df['price'])*1.05),\\\n",
    "           x_range = (min(scatter_df['grade'])*0.95,max(scatter_df['grade'])*1.05))\n",
    "p.scatter(x='grade', y='price', color='color', size='size', source=source, alpha=0.8)\n",
    "style(p)\n",
    "\n",
    "#hover tool to display information (price and grade) when hovering over a specific point in the plot\n",
    "h = HoverTool(tooltips=[('Price', '@price_names'),('Grade', '@grade')])\n",
    "p.add_tools(h)\n",
    "\n",
    "#callback CustomJS function has been created in order to update the plot when changing the value of the year from the slider\n",
    "callback_scatter = CustomJS(code=\"\"\"\n",
    "if (IPython.notebook.kernel !== undefined) {\n",
    "    var kernel = IPython.notebook.kernel;\n",
    "    cmd = \"update_scatter(\" + cb_obj.value + \")\";\n",
    "    kernel.execute(cmd, {}, {});\n",
    "}\n",
    "\"\"\") \n",
    "\n",
    "# Function to update the features of the plot when changing the year from the slide\n",
    "def update_scatter(year):\n",
    "        temp_df = scatter_df[scatter_df['max_yr_built_or_renovated']==year]\n",
    "        source.data = ColumnDataSource(temp_df).data\n",
    "        p.title.text = \"Prices of Houses Built in \" + str(year)\n",
    "        push_notebook(handle=scatter_handle)\n",
    "\n",
    "# Define a slider specifying the maximum and minimum values the yr_built variable, the steps, \n",
    "#the initial value, the title, and the callback function that was created earlier.\n",
    "year_select = Slider(start = min(scatter_df['max_yr_built_or_renovated']), end = max(scatter_df['max_yr_built_or_renovated']),\n",
    "                    step = 1, value = 2010,\n",
    "                    title = 'Year',callback=callback_scatter)"
   ]
  },
  {
   "cell_type": "code",
   "execution_count": 143,
   "id": "618b41be",
   "metadata": {},
   "outputs": [
    {
     "data": {
      "text/html": [
       "\n",
       "\n",
       "\n",
       "\n",
       "\n",
       "\n",
       "  <div class=\"bk-root\" id=\"fdb2978d-da1f-454c-8d03-cd6ffcdb26ff\" data-root-id=\"7353\"></div>\n"
      ]
     },
     "metadata": {},
     "output_type": "display_data"
    },
    {
     "data": {
      "application/javascript": [
       "(function(root) {\n",
       "  function embed_document(root) {\n",
       "    \n",
       "  var docs_json = {\"ba0edf3d-ab76-4493-addc-31a4af20e01b\":{\"roots\":{\"references\":[{\"attributes\":{\"children\":[{\"id\":\"7352\",\"type\":\"Toggle\"},{\"id\":\"7350\",\"type\":\"Slider\"},{\"id\":\"7308\",\"subtype\":\"Figure\",\"type\":\"Plot\"}]},\"id\":\"7353\",\"type\":\"Column\"},{\"attributes\":{},\"id\":\"7329\",\"type\":\"PanTool\"},{\"attributes\":{},\"id\":\"7333\",\"type\":\"ResetTool\"},{\"attributes\":{\"code\":\"\\n        var f = cb_obj.active;\\n        var j = 1965;\\n\\n        if(f == true){\\n            mytimer = setInterval(replace_data, 250);             \\n        } else {\\n            clearInterval(mytimer);\\n        }\\n\\n        function replace_data() {\\n             j++;\\n             if(j>2015){\\n                 j = 1965;\\n             }\\n             var kernel = IPython.notebook.kernel;\\n             cmd = \\\"update_scatter(\\\" + j + \\\")\\\";\\n             kernel.execute(cmd, {}, {});\\n        }\\n\"},\"id\":\"7351\",\"type\":\"CustomJS\"},{\"attributes\":{\"code\":\"\\nif (IPython.notebook.kernel !== undefined) {\\n    var kernel = IPython.notebook.kernel;\\n    cmd = \\\"update_scatter(\\\" + cb_obj.value + \\\")\\\";\\n    kernel.execute(cmd, {}, {});\\n}\\n\"},\"id\":\"7349\",\"type\":\"CustomJS\"},{\"attributes\":{\"align\":\"center\",\"text\":\"Prices of Houses Built 2010\",\"text_font\":\"serif\",\"text_font_size\":{\"value\":\"20pt\"}},\"id\":\"7309\",\"type\":\"Title\"},{\"attributes\":{\"dimension\":1,\"ticker\":{\"id\":\"7325\",\"type\":\"BasicTicker\"}},\"id\":\"7328\",\"type\":\"Grid\"},{\"attributes\":{\"ticker\":{\"id\":\"7320\",\"type\":\"BasicTicker\"}},\"id\":\"7323\",\"type\":\"Grid\"},{\"attributes\":{},\"id\":\"7325\",\"type\":\"BasicTicker\"},{\"attributes\":{\"bottom_units\":\"screen\",\"fill_alpha\":{\"value\":0.5},\"fill_color\":{\"value\":\"lightgrey\"},\"left_units\":\"screen\",\"level\":\"overlay\",\"line_alpha\":{\"value\":1.0},\"line_color\":{\"value\":\"black\"},\"line_dash\":[4,4],\"line_width\":{\"value\":2},\"render_mode\":\"css\",\"right_units\":\"screen\",\"top_units\":\"screen\"},\"id\":\"7510\",\"type\":\"BoxAnnotation\"},{\"attributes\":{},\"id\":\"7511\",\"type\":\"UnionRenderers\"},{\"attributes\":{},\"id\":\"7512\",\"type\":\"Selection\"},{\"attributes\":{\"axis_label\":\"Grade\",\"axis_label_text_font_size\":{\"value\":\"14pt\"},\"axis_label_text_font_style\":\"bold\",\"formatter\":{\"id\":\"7507\",\"type\":\"BasicTickFormatter\"},\"major_label_text_font_size\":{\"value\":\"12pt\"},\"ticker\":{\"id\":\"7320\",\"type\":\"BasicTicker\"}},\"id\":\"7319\",\"type\":\"LinearAxis\"},{\"attributes\":{\"axis_label\":\"Price\",\"axis_label_text_font_size\":{\"value\":\"14pt\"},\"axis_label_text_font_style\":\"bold\",\"formatter\":{\"id\":\"7509\",\"type\":\"BasicTickFormatter\"},\"major_label_text_font_size\":{\"value\":\"12pt\"},\"ticker\":{\"id\":\"7325\",\"type\":\"BasicTicker\"}},\"id\":\"7324\",\"type\":\"LinearAxis\"},{\"attributes\":{},\"id\":\"7330\",\"type\":\"WheelZoomTool\"},{\"attributes\":{\"button_type\":\"success\",\"callback\":{\"id\":\"7351\",\"type\":\"CustomJS\"},\"icon\":null,\"label\":\"Play/Stop Animation (from 1965)\"},\"id\":\"7352\",\"type\":\"Toggle\"},{\"attributes\":{},\"id\":\"7332\",\"type\":\"SaveTool\"},{\"attributes\":{},\"id\":\"7315\",\"type\":\"LinearScale\"},{\"attributes\":{\"active_drag\":\"auto\",\"active_inspect\":\"auto\",\"active_multi\":null,\"active_scroll\":\"auto\",\"active_tap\":\"auto\",\"tools\":[{\"id\":\"7329\",\"type\":\"PanTool\"},{\"id\":\"7330\",\"type\":\"WheelZoomTool\"},{\"id\":\"7331\",\"type\":\"BoxZoomTool\"},{\"id\":\"7332\",\"type\":\"SaveTool\"},{\"id\":\"7333\",\"type\":\"ResetTool\"},{\"id\":\"7334\",\"type\":\"HelpTool\"},{\"id\":\"7347\",\"type\":\"HoverTool\"}]},\"id\":\"7335\",\"type\":\"Toolbar\"},{\"attributes\":{\"source\":{\"id\":\"7307\",\"type\":\"ColumnDataSource\"}},\"id\":\"7346\",\"type\":\"CDSView\"},{\"attributes\":{\"data_source\":{\"id\":\"7307\",\"type\":\"ColumnDataSource\"},\"glyph\":{\"id\":\"7343\",\"type\":\"Scatter\"},\"hover_glyph\":null,\"muted_glyph\":null,\"nonselection_glyph\":{\"id\":\"7344\",\"type\":\"Scatter\"},\"selection_glyph\":null,\"view\":{\"id\":\"7346\",\"type\":\"CDSView\"}},\"id\":\"7345\",\"type\":\"GlyphRenderer\"},{\"attributes\":{},\"id\":\"7317\",\"type\":\"LinearScale\"},{\"attributes\":{},\"id\":\"7320\",\"type\":\"BasicTicker\"},{\"attributes\":{\"callback\":null,\"data\":{\"color\":[\"#0034f8\",\"#80b412\",\"#0034f8\",\"#0034f8\",\"#0034f8\",\"#2b807d\",\"#5aab0d\",\"#0034f8\",\"#0034f8\",\"#0056cd\",\"#a3bc18\",\"#0034f8\",\"#0034f8\",\"#3e9f2b\",\"#2b807d\",\"#2b807d\",\"#3d9058\",\"#a3bc18\"],\"grade\":[8,7,9,9,10,8,7,8,9,8,7,8,11,7,8,7,9,7],\"index\":[103,1897,2367,2781,4743,5072,6033,6079,6214,7726,9571,9745,10446,10973,14242,15931,16721,17145],\"max_yr_built_or_renovated\":[2010,2010,2010,2010,2010,2010,2010,2010,2010,2010,2010,2010,2010,2010,2010,2010,2010,2010],\"price\":{\"__ndarray__\":\"AAAAAACaMEEAAAAAAGoYQQAAAADIzDBBAAAAAOj2NkEAAAAAULw2QQAAAAC4TyZBAAAAAICEHkEAAAAAAIgzQQAAAABAXy9BAAAAAJA6LEEAAAAAQGUOQQAAAADAejBBAAAAAKDwSUEAAAAAcCgiQQAAAABAlSZBAAAAAJBYJ0EAAAAAkOckQQAAAAB4LxJB\",\"dtype\":\"float64\",\"shape\":[18]},\"price_names\":[\"$1.1m\",\"$400k\",\"$1.1m\",\"$1.5m\",\"$1.5m\",\"$731k\",\"$500k\",\"$1.3m\",\"$1.0m\",\"$925k\",\"$249k\",\"$1.1m\",\"$3.4m\",\"$595k\",\"$740k\",\"$765k\",\"$685k\",\"$298k\"],\"size\":[60,25,60,60,60,45,30,60,60,55,20,60,60,35,45,45,40,20]},\"selected\":{\"id\":\"7512\",\"type\":\"Selection\"},\"selection_policy\":{\"id\":\"7511\",\"type\":\"UnionRenderers\"}},\"id\":\"7307\",\"type\":\"ColumnDataSource\"},{\"attributes\":{\"callback\":{\"id\":\"7349\",\"type\":\"CustomJS\"},\"end\":2015,\"start\":1934,\"title\":\"Year\",\"value\":2010},\"id\":\"7350\",\"type\":\"Slider\"},{\"attributes\":{},\"id\":\"7334\",\"type\":\"HelpTool\"},{\"attributes\":{\"fill_alpha\":{\"value\":0.8},\"fill_color\":{\"field\":\"color\"},\"line_alpha\":{\"value\":0.8},\"line_color\":{\"field\":\"color\"},\"size\":{\"field\":\"size\",\"units\":\"screen\"},\"x\":{\"field\":\"grade\"},\"y\":{\"field\":\"price\"}},\"id\":\"7343\",\"type\":\"Scatter\"},{\"attributes\":{\"callback\":null,\"tooltips\":[[\"Price\",\"@price_names\"],[\"Grade\",\"@grade\"]]},\"id\":\"7347\",\"type\":\"HoverTool\"},{\"attributes\":{\"overlay\":{\"id\":\"7510\",\"type\":\"BoxAnnotation\"}},\"id\":\"7331\",\"type\":\"BoxZoomTool\"},{\"attributes\":{},\"id\":\"7509\",\"type\":\"BasicTickFormatter\"},{\"attributes\":{\"fill_alpha\":{\"value\":0.1},\"fill_color\":{\"value\":\"#1f77b4\"},\"line_alpha\":{\"value\":0.1},\"line_color\":{\"value\":\"#1f77b4\"},\"size\":{\"field\":\"size\",\"units\":\"screen\"},\"x\":{\"field\":\"grade\"},\"y\":{\"field\":\"price\"}},\"id\":\"7344\",\"type\":\"Scatter\"},{\"attributes\":{},\"id\":\"7507\",\"type\":\"BasicTickFormatter\"},{\"attributes\":{\"callback\":null,\"end\":8085000.0},\"id\":\"7313\",\"type\":\"Range1d\"},{\"attributes\":{\"callback\":null,\"end\":13.65,\"start\":3.8},\"id\":\"7311\",\"type\":\"Range1d\"},{\"attributes\":{\"below\":[{\"id\":\"7319\",\"type\":\"LinearAxis\"}],\"center\":[{\"id\":\"7323\",\"type\":\"Grid\"},{\"id\":\"7328\",\"type\":\"Grid\"}],\"left\":[{\"id\":\"7324\",\"type\":\"LinearAxis\"}],\"plot_height\":350,\"plot_width\":900,\"renderers\":[{\"id\":\"7345\",\"type\":\"GlyphRenderer\"}],\"title\":{\"id\":\"7309\",\"type\":\"Title\"},\"toolbar\":{\"id\":\"7335\",\"type\":\"Toolbar\"},\"x_range\":{\"id\":\"7311\",\"type\":\"Range1d\"},\"x_scale\":{\"id\":\"7315\",\"type\":\"LinearScale\"},\"y_range\":{\"id\":\"7313\",\"type\":\"Range1d\"},\"y_scale\":{\"id\":\"7317\",\"type\":\"LinearScale\"}},\"id\":\"7308\",\"subtype\":\"Figure\",\"type\":\"Plot\"}],\"root_ids\":[\"7353\"]},\"title\":\"Bokeh Application\",\"version\":\"1.3.4\"}};\n",
       "  var render_items = [{\"docid\":\"ba0edf3d-ab76-4493-addc-31a4af20e01b\",\"notebook_comms_target\":\"7513\",\"roots\":{\"7353\":\"fdb2978d-da1f-454c-8d03-cd6ffcdb26ff\"}}];\n",
       "  root.Bokeh.embed.embed_items_notebook(docs_json, render_items);\n",
       "\n",
       "  }\n",
       "  if (root.Bokeh !== undefined) {\n",
       "    embed_document(root);\n",
       "  } else {\n",
       "    var attempts = 0;\n",
       "    var timer = setInterval(function(root) {\n",
       "      if (root.Bokeh !== undefined) {\n",
       "        embed_document(root);\n",
       "        clearInterval(timer);\n",
       "      }\n",
       "      attempts++;\n",
       "      if (attempts > 100) {\n",
       "        console.log(\"Bokeh: ERROR: Unable to run BokehJS code because BokehJS library is missing\");\n",
       "        clearInterval(timer);\n",
       "      }\n",
       "    }, 10, root)\n",
       "  }\n",
       "})(window);"
      ],
      "application/vnd.bokehjs_exec.v0+json": ""
     },
     "metadata": {
      "application/vnd.bokehjs_exec.v0+json": {
       "id": "7353"
      }
     },
     "output_type": "display_data"
    }
   ],
   "source": [
    "# Another callback CustomJS function has been created, this time for the toggle button that creates an animated plot\n",
    "callback_animate = CustomJS(code=\"\"\"\n",
    "        var f = cb_obj.active;\n",
    "        var j = 1965;\n",
    "\n",
    "        if(f == true){\n",
    "            mytimer = setInterval(replace_data, 250);             \n",
    "        } else {\n",
    "            clearInterval(mytimer);\n",
    "        }\n",
    "\n",
    "        function replace_data() {\n",
    "             j++;\n",
    "             if(j>2015){\n",
    "                 j = 1965;\n",
    "             }\n",
    "             var kernel = IPython.notebook.kernel;\n",
    "             cmd = \"update_scatter(\" + j + \")\";\n",
    "             kernel.execute(cmd, {}, {});\n",
    "        }\n",
    "\"\"\")\n",
    "\n",
    "# Toggle button that will create the animation of the plot over years, which takes as a attribute the callback_animate function \n",
    "btn = Toggle(label=\"Play/Stop Animation (from 1965)\", button_type=\"success\",\n",
    "             active=False, callback=callback_animate)\n",
    "\n",
    "# Show the plot \n",
    "scatter_handle = show(column(btn,year_select,p), notebook_handle=True)"
   ]
  },
  {
   "cell_type": "code",
   "execution_count": null,
   "id": "67fbbf63",
   "metadata": {},
   "outputs": [],
   "source": []
  }
 ],
 "metadata": {
  "kernelspec": {
   "display_name": "Python 3 (ipykernel)",
   "language": "python",
   "name": "python3"
  },
  "language_info": {
   "codemirror_mode": {
    "name": "ipython",
    "version": 3
   },
   "file_extension": ".py",
   "mimetype": "text/x-python",
   "name": "python",
   "nbconvert_exporter": "python",
   "pygments_lexer": "ipython3",
   "version": "3.9.7"
  }
 },
 "nbformat": 4,
 "nbformat_minor": 5
}
